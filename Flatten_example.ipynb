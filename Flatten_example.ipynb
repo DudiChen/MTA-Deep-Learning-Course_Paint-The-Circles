{
 "cells": [
  {
   "cell_type": "code",
   "execution_count": 5,
   "metadata": {},
   "outputs": [
    {
     "name": "stdout",
     "output_type": "stream",
     "text": [
      "tensor([[[ 1,  2,  3,  4],\n",
      "         [ 5,  6,  7,  8]],\n",
      "\n",
      "        [[ 9, 10, 11, 12],\n",
      "         [13, 14, 15, 16]],\n",
      "\n",
      "        [[17, 18, 19, 20],\n",
      "         [21, 22, 23, 24]]])\n",
      "torch.Size([3, 2, 4])\n"
     ]
    }
   ],
   "source": [
    "import torch\n",
    "\n",
    "tens = torch.tensor([[[1,2,3,4], \n",
    "                      [5,6,7,8]],\n",
    "                     \n",
    "                    [[9,10,11,12], \n",
    "                     [13,14,15,16]],\n",
    "                     \n",
    "                    [[17,18,19,20], \n",
    "                     [21,22,23,24]]])\n",
    "print (tens)\n",
    "print (tens.shape)"
   ]
  },
  {
   "cell_type": "code",
   "execution_count": 13,
   "metadata": {},
   "outputs": [
    {
     "name": "stdout",
     "output_type": "stream",
     "text": [
      "tensor([ 1,  2,  3,  4,  5,  6,  7,  8,  9, 10, 11, 12, 13, 14, 15, 16, 17, 18,\n",
      "        19, 20, 21, 22, 23, 24])\n",
      "torch.Size([24])\n"
     ]
    }
   ],
   "source": [
    "# flattening\n",
    "\n",
    "flat_tens = tens.view(-1)\n",
    "#flat_tens = tens.view(24)     # also works\n",
    "#flat_tens = tens.reshape(-1)  # also works\n",
    "#flat_tens = tens.reshape(24)  # also works\n",
    "\n",
    "print (flat_tens)\n",
    "print (flat_tens.shape)"
   ]
  },
  {
   "cell_type": "code",
   "execution_count": 15,
   "metadata": {},
   "outputs": [
    {
     "name": "stdout",
     "output_type": "stream",
     "text": [
      "tensor([[ 1,  2,  3,  4,  5,  6,  7,  8],\n",
      "        [ 9, 10, 11, 12, 13, 14, 15, 16],\n",
      "        [17, 18, 19, 20, 21, 22, 23, 24]])\n",
      "torch.Size([3, 8])\n"
     ]
    }
   ],
   "source": [
    "# suppose 3 is the number of batches. So we really want (3,8)\n",
    "flat_tens = tens.view(tens.shape[0] ,-1)\n",
    "#flat_tens = tens.view(-1, 8)   # also works\n",
    "\n",
    "print (flat_tens)\n",
    "print (flat_tens.shape)"
   ]
  },
  {
   "cell_type": "code",
   "execution_count": null,
   "metadata": {
    "collapsed": true
   },
   "outputs": [],
   "source": []
  }
 ],
 "metadata": {
  "kernelspec": {
   "display_name": "Python 3",
   "language": "python",
   "name": "python3"
  },
  "language_info": {
   "codemirror_mode": {
    "name": "ipython",
    "version": 3
   },
   "file_extension": ".py",
   "mimetype": "text/x-python",
   "name": "python",
   "nbconvert_exporter": "python",
   "pygments_lexer": "ipython3",
   "version": "3.6.4"
  }
 },
 "nbformat": 4,
 "nbformat_minor": 2
}
